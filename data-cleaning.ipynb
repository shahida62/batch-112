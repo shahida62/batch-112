{
 "cells": [
  {
   "cell_type": "code",
   "execution_count": 1,
   "id": "1d2b9e10-2bc2-4496-b30d-25d983a70212",
   "metadata": {},
   "outputs": [],
   "source": [
    "import pandas as pd"
   ]
  },
  {
   "cell_type": "code",
   "execution_count": 2,
   "id": "d3ee541b-50bd-491e-934b-f25f6d87c94d",
   "metadata": {},
   "outputs": [],
   "source": [
    "data = pd.read_csv(\"data_date.csv\")"
   ]
  },
  {
   "cell_type": "code",
   "execution_count": 3,
   "id": "a0729eb8-4104-45cb-bd42-e54370028446",
   "metadata": {},
   "outputs": [
    {
     "name": "stdout",
     "output_type": "stream",
     "text": [
      "<bound method NDFrame.head of              Date                                            Country  \\\n",
      "0      2022-07-21                                            Albania   \n",
      "1      2022-07-21                                            Algeria   \n",
      "2      2022-07-21                                            Andorra   \n",
      "3      2022-07-21                                             Angola   \n",
      "4      2022-07-21                                          Argentina   \n",
      "...           ...                                                ...   \n",
      "21737  2025-10-23  United Kingdom of Great Britain and Northern I...   \n",
      "21738  2025-10-23                           United States of America   \n",
      "21739  2025-10-23                                         Uzbekistan   \n",
      "21740  2025-10-23                                            Vatican   \n",
      "21741  2025-10-23                                            Vietnam   \n",
      "\n",
      "                               Status  AQI Value  \n",
      "0                                Good         14  \n",
      "1                            Moderate         65  \n",
      "2                            Moderate         55  \n",
      "3      Unhealthy for Sensitive Groups        113  \n",
      "4                            Moderate         63  \n",
      "...                               ...        ...  \n",
      "21737                        Moderate         58  \n",
      "21738                        Moderate         91  \n",
      "21739                            Good         25  \n",
      "21740                        Moderate         53  \n",
      "21741                            Good         14  \n",
      "\n",
      "[21742 rows x 4 columns]>\n"
     ]
    }
   ],
   "source": [
    "print(data.head)"
   ]
  },
  {
   "cell_type": "code",
   "execution_count": 4,
   "id": "30f049e1-c733-4ae0-b4c7-362646d9912b",
   "metadata": {},
   "outputs": [
    {
     "name": "stdout",
     "output_type": "stream",
     "text": [
      "<bound method DataFrame.sum of         Date  Country  Status  AQI Value\n",
      "0      False    False   False      False\n",
      "1      False    False   False      False\n",
      "2      False    False   False      False\n",
      "3      False    False   False      False\n",
      "4      False    False   False      False\n",
      "...      ...      ...     ...        ...\n",
      "21737  False    False   False      False\n",
      "21738  False    False   False      False\n",
      "21739  False    False   False      False\n",
      "21740  False    False   False      False\n",
      "21741  False    False   False      False\n",
      "\n",
      "[21742 rows x 4 columns]>\n"
     ]
    }
   ],
   "source": [
    "print(data.isnull().sum)"
   ]
  },
  {
   "cell_type": "code",
   "execution_count": 8,
   "id": "f64c88af-df6f-4bf8-86a7-9c5d90c9b215",
   "metadata": {},
   "outputs": [],
   "source": [
    "data = data.drop_duplicates()"
   ]
  },
  {
   "cell_type": "code",
   "execution_count": 9,
   "id": "0cea0a25-2ea8-46d8-a9a3-fde5af944213",
   "metadata": {},
   "outputs": [
    {
     "name": "stdout",
     "output_type": "stream",
     "text": [
      "Date         object\n",
      "Country      object\n",
      "Status       object\n",
      "AQI Value     int64\n",
      "dtype: object\n"
     ]
    }
   ],
   "source": [
    "print(data.dtypes)"
   ]
  },
  {
   "cell_type": "code",
   "execution_count": null,
   "id": "ad8d4320-cac5-471c-8420-7f10f3320a58",
   "metadata": {},
   "outputs": [],
   "source": []
  }
 ],
 "metadata": {
  "kernelspec": {
   "display_name": "Python 3 (ipykernel)",
   "language": "python",
   "name": "python3"
  },
  "language_info": {
   "codemirror_mode": {
    "name": "ipython",
    "version": 3
   },
   "file_extension": ".py",
   "mimetype": "text/x-python",
   "name": "python",
   "nbconvert_exporter": "python",
   "pygments_lexer": "ipython3",
   "version": "3.13.7"
  }
 },
 "nbformat": 4,
 "nbformat_minor": 5
}
