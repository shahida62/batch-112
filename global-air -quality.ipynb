{
 "cells": [
  {
   "cell_type": "code",
   "execution_count": 25,
   "id": "342f2007-be03-48a1-b310-61a3998137ca",
   "metadata": {},
   "outputs": [],
   "source": [
    "import pandas as pd"
   ]
  },
  {
   "cell_type": "code",
   "execution_count": 26,
   "id": "ccaaa635-60dd-4718-9a91-d956809d3eb5",
   "metadata": {},
   "outputs": [],
   "source": [
    "data = pd.read_csv(\"global_house_purchase_dataset.csv\")"
   ]
  },
  {
   "cell_type": "code",
   "execution_count": 24,
   "id": "06946751-b527-4b60-8590-e7060fd7b611",
   "metadata": {},
   "outputs": [
    {
     "name": "stdout",
     "output_type": "stream",
     "text": [
      "             City   Country        Date   PM2.5    PM10    NO2    SO2    CO  \\\n",
      "0         Bangkok  Thailand  2023-03-19   86.57   25.19  99.88  30.63  4.46   \n",
      "1        Istanbul    Turkey  2023-02-16   50.63   97.39  48.14   8.71  3.40   \n",
      "2  Rio de Janeiro    Brazil  2023-11-13  130.21   57.22  98.51   9.92  0.12   \n",
      "3          Mumbai     India  2023-03-16  119.70  130.52  10.96  33.03  7.74   \n",
      "4           Paris    France  2023-04-04   55.20   36.62  76.85  21.85  2.00   \n",
      "\n",
      "       O3  Temperature  Humidity  Wind Speed  \n",
      "0   36.29        17.67     59.35       13.76  \n",
      "1  144.16         3.46     67.51        6.36  \n",
      "2  179.31        25.29     29.30       12.87  \n",
      "3   38.65        23.15     99.97        7.71  \n",
      "4   67.09        16.02     90.28       14.16  \n"
     ]
    }
   ],
   "source": [
    "print(data.head())"
   ]
  },
  {
   "cell_type": "code",
   "execution_count": 14,
   "id": "180ae5ef-649f-4a42-bb7c-9e70dc311efa",
   "metadata": {},
   "outputs": [
    {
     "name": "stdout",
     "output_type": "stream",
     "text": [
      "             City   Country        Date   PM2.5    PM10    NO2    SO2    CO  \\\n",
      "0         Bangkok  Thailand  2023-03-19   86.57   25.19  99.88  30.63  4.46   \n",
      "1        Istanbul    Turkey  2023-02-16   50.63   97.39  48.14   8.71  3.40   \n",
      "2  Rio de Janeiro    Brazil  2023-11-13  130.21   57.22  98.51   9.92  0.12   \n",
      "3          Mumbai     India  2023-03-16  119.70  130.52  10.96  33.03  7.74   \n",
      "4           Paris    France  2023-04-04   55.20   36.62  76.85  21.85  2.00   \n",
      "\n",
      "       O3  Temperature  Humidity  Wind Speed  \n",
      "0   36.29        17.67     59.35       13.76  \n",
      "1  144.16         3.46     67.51        6.36  \n",
      "2  179.31        25.29     29.30       12.87  \n",
      "3   38.65        23.15     99.97        7.71  \n",
      "4   67.09        16.02     90.28       14.16  \n"
     ]
    }
   ],
   "source": [
    "print(data.head())"
   ]
  },
  {
   "cell_type": "code",
   "execution_count": 23,
   "id": "8cbd8d33-7ebc-473f-9620-0a65282d9c8c",
   "metadata": {},
   "outputs": [],
   "source": [
    "data = pd.read_csv(\"global_air_quality_data_10000.csv\")"
   ]
  },
  {
   "cell_type": "code",
   "execution_count": 19,
   "id": "b7eceb83-addf-4cc5-817f-1b553ed7281f",
   "metadata": {},
   "outputs": [
    {
     "name": "stdout",
     "output_type": "stream",
     "text": [
      "<bound method DataFrame.sum of        City  Country   Date  PM2.5   PM10    NO2    SO2     CO     O3  \\\n",
      "0     False    False  False  False  False  False  False  False  False   \n",
      "1     False    False  False  False  False  False  False  False  False   \n",
      "2     False    False  False  False  False  False  False  False  False   \n",
      "3     False    False  False  False  False  False  False  False  False   \n",
      "4     False    False  False  False  False  False  False  False  False   \n",
      "...     ...      ...    ...    ...    ...    ...    ...    ...    ...   \n",
      "9995  False    False  False  False  False  False  False  False  False   \n",
      "9996  False    False  False  False  False  False  False  False  False   \n",
      "9997  False    False  False  False  False  False  False  False  False   \n",
      "9998  False    False  False  False  False  False  False  False  False   \n",
      "9999  False    False  False  False  False  False  False  False  False   \n",
      "\n",
      "      Temperature  Humidity  Wind Speed  \n",
      "0           False     False       False  \n",
      "1           False     False       False  \n",
      "2           False     False       False  \n",
      "3           False     False       False  \n",
      "4           False     False       False  \n",
      "...           ...       ...         ...  \n",
      "9995        False     False       False  \n",
      "9996        False     False       False  \n",
      "9997        False     False       False  \n",
      "9998        False     False       False  \n",
      "9999        False     False       False  \n",
      "\n",
      "[10000 rows x 12 columns]>\n"
     ]
    }
   ],
   "source": [
    "print(data.isnull().sum)"
   ]
  },
  {
   "cell_type": "code",
   "execution_count": 20,
   "id": "136be7d1-f38b-41d4-b9b7-f9541e54e240",
   "metadata": {},
   "outputs": [
    {
     "name": "stdout",
     "output_type": "stream",
     "text": [
      "Index(['City', 'Country', 'Date', 'PM2.5', 'PM10', 'NO2', 'SO2', 'CO', 'O3',\n",
      "       'Temperature', 'Humidity', 'Wind Speed'],\n",
      "      dtype='object')\n"
     ]
    }
   ],
   "source": [
    "print(data.columns)"
   ]
  },
  {
   "cell_type": "code",
   "execution_count": 21,
   "id": "f818e52a-8e9d-4c22-8744-b36517abb815",
   "metadata": {},
   "outputs": [
    {
     "name": "stdout",
     "output_type": "stream",
     "text": [
      "              PM2.5          PM10           NO2           SO2            CO  \\\n",
      "count  10000.000000  10000.000000  10000.000000  10000.000000  10000.000000   \n",
      "mean      77.448439    104.438161     52.198649     25.344490      5.047984   \n",
      "std       41.927871     55.062396     27.320490     14.091194      2.852625   \n",
      "min        5.020000     10.000000      5.010000      1.000000      0.100000   \n",
      "25%       41.185000     57.137500     28.347500     13.190000      2.560000   \n",
      "50%       77.725000    103.690000     52.100000     25.350000      5.090000   \n",
      "75%      113.392500    152.265000     75.705000     37.500000      7.480000   \n",
      "max      149.980000    200.000000    100.000000     49.990000     10.000000   \n",
      "\n",
      "                 O3  Temperature      Humidity    Wind Speed  \n",
      "count  10000.000000  10000.00000  10000.000000  10000.000000  \n",
      "mean     106.031643     14.89715     55.078579     10.231636  \n",
      "std       55.081345     14.44380     25.982232      5.632628  \n",
      "min       10.040000    -10.00000     10.010000      0.500000  \n",
      "25%       58.380000      2.25750     32.527500      5.290000  \n",
      "50%      106.055000     14.75500     55.080000     10.260000  \n",
      "75%      153.982500     27.38250     77.442500     15.070000  \n",
      "max      200.000000     40.00000     99.990000     20.000000  \n"
     ]
    }
   ],
   "source": [
    "print(data.describe())"
   ]
  },
  {
   "cell_type": "code",
   "execution_count": 1,
   "id": "afa38596-3dc8-4744-bdf4-e3b99b281986",
   "metadata": {},
   "outputs": [],
   "source": []
  },
  {
   "cell_type": "code",
   "execution_count": null,
   "id": "334b1982-0be0-46f1-8b66-0c3b8e8608fc",
   "metadata": {},
   "outputs": [],
   "source": []
  }
 ],
 "metadata": {
  "kernelspec": {
   "display_name": "Python 3 (ipykernel)",
   "language": "python",
   "name": "python3"
  },
  "language_info": {
   "codemirror_mode": {
    "name": "ipython",
    "version": 3
   },
   "file_extension": ".py",
   "mimetype": "text/x-python",
   "name": "python",
   "nbconvert_exporter": "python",
   "pygments_lexer": "ipython3",
   "version": "3.13.7"
  }
 },
 "nbformat": 4,
 "nbformat_minor": 5
}
