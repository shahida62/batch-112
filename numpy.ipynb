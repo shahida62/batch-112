{
 "cells": [
  {
   "cell_type": "code",
   "execution_count": 53,
   "id": "b8c3f82e-3bcb-4d6f-b5a2-f1bde6264db3",
   "metadata": {},
   "outputs": [
    {
     "data": {
      "text/plain": [
       "10"
      ]
     },
     "execution_count": 53,
     "metadata": {},
     "output_type": "execute_result"
    }
   ],
   "source": [
    "n = 10\n",
    "n"
   ]
  },
  {
   "cell_type": "code",
   "execution_count": 54,
   "id": "96bbee4b-4a95-41dd-be63-30b1656dba51",
   "metadata": {},
   "outputs": [
    {
     "data": {
      "text/plain": [
       "5"
      ]
     },
     "execution_count": 54,
     "metadata": {},
     "output_type": "execute_result"
    }
   ],
   "source": [
    "n = 10\n",
    "z = 5\n",
    "n\n",
    "z"
   ]
  },
  {
   "cell_type": "code",
   "execution_count": 55,
   "id": "94647284-cf64-4a44-83ba-f15e2042d195",
   "metadata": {},
   "outputs": [
    {
     "name": "stdout",
     "output_type": "stream",
     "text": [
      "10\n",
      "5\n"
     ]
    }
   ],
   "source": [
    "print(n)\n",
    "print(z)"
   ]
  },
  {
   "cell_type": "code",
   "execution_count": 56,
   "id": "d5859738-f84a-4e81-b69d-c396dd186a86",
   "metadata": {},
   "outputs": [
    {
     "data": {
      "text/plain": [
       "15"
      ]
     },
     "execution_count": 56,
     "metadata": {},
     "output_type": "execute_result"
    }
   ],
   "source": [
    "b = n + z\n",
    "b"
   ]
  },
  {
   "cell_type": "markdown",
   "id": "4ce7a8f9-3a91-4c8a-ae9f-6d29d1a025fa",
   "metadata": {},
   "source": [
    "***data science***"
   ]
  },
  {
   "cell_type": "code",
   "execution_count": 57,
   "id": "11519d70-fed0-4a81-ae0e-1fcffeab2be7",
   "metadata": {},
   "outputs": [
    {
     "data": {
      "text/plain": [
       "[1, 2, 3, 4, 5, 6]"
      ]
     },
     "execution_count": 57,
     "metadata": {},
     "output_type": "execute_result"
    }
   ],
   "source": [
    "n = [1,2,3,4,5,6]\n",
    "n"
   ]
  },
  {
   "cell_type": "code",
   "execution_count": 58,
   "id": "2b84b7d0-9b95-4c1e-9f4e-7254e94c9cd8",
   "metadata": {},
   "outputs": [],
   "source": [
    "z = n*2"
   ]
  },
  {
   "cell_type": "code",
   "execution_count": 59,
   "id": "062b02a8-ec01-4d4a-9197-e6539acfd496",
   "metadata": {},
   "outputs": [
    {
     "data": {
      "text/plain": [
       "[1, 2, 3, 4, 5, 6, 1, 2, 3, 4, 5, 6]"
      ]
     },
     "execution_count": 59,
     "metadata": {},
     "output_type": "execute_result"
    }
   ],
   "source": [
    "z"
   ]
  },
  {
   "cell_type": "code",
   "execution_count": 60,
   "id": "f7caccb0-ff0c-48cb-a155-215619f85694",
   "metadata": {},
   "outputs": [],
   "source": [
    "g = [1,2,3,4,5]"
   ]
  },
  {
   "cell_type": "code",
   "execution_count": 61,
   "id": "877dc1b7-08b3-470b-b90a-2765d62b33a9",
   "metadata": {},
   "outputs": [
    {
     "data": {
      "text/plain": [
       "[1, 2, 3, 4, 5, 1, 2, 3, 4, 5]"
      ]
     },
     "execution_count": 61,
     "metadata": {},
     "output_type": "execute_result"
    }
   ],
   "source": [
    "g*2"
   ]
  },
  {
   "cell_type": "code",
   "execution_count": 2,
   "id": "3d616d8f-9105-4af9-a332-806ca8ee5ee9",
   "metadata": {},
   "outputs": [
    {
     "data": {
      "text/plain": [
       "[1, 2, 3, 4, 5, 6]"
      ]
     },
     "execution_count": 2,
     "metadata": {},
     "output_type": "execute_result"
    }
   ],
   "source": [
    "c = [1,2,3,4,5,6]\n",
    "c"
   ]
  },
  {
   "cell_type": "code",
   "execution_count": 3,
   "id": "d32e220f-e3c2-45c3-a60a-a911f6b01507",
   "metadata": {},
   "outputs": [],
   "source": [
    "import numpy as np"
   ]
  },
  {
   "cell_type": "code",
   "execution_count": 4,
   "id": "78bea978-f00d-4dee-8f4b-2ce756b7facc",
   "metadata": {},
   "outputs": [
    {
     "data": {
      "text/plain": [
       "array([1, 2, 3, 4, 5, 6])"
      ]
     },
     "execution_count": 4,
     "metadata": {},
     "output_type": "execute_result"
    }
   ],
   "source": [
    "d = np.array(c)\n",
    "d"
   ]
  },
  {
   "cell_type": "code",
   "execution_count": 5,
   "id": "c5c79a4e-dad7-43b7-8125-8c7029655f92",
   "metadata": {},
   "outputs": [
    {
     "data": {
      "text/plain": [
       "array([ 2,  4,  6,  8, 10, 12])"
      ]
     },
     "execution_count": 5,
     "metadata": {},
     "output_type": "execute_result"
    }
   ],
   "source": [
    "d*2"
   ]
  },
  {
   "cell_type": "code",
   "execution_count": 6,
   "id": "9d9c6662-2fbe-4e96-9d57-de095f49f61b",
   "metadata": {},
   "outputs": [
    {
     "data": {
      "text/plain": [
       "-1"
      ]
     },
     "execution_count": 6,
     "metadata": {},
     "output_type": "execute_result"
    }
   ],
   "source": [
    "my_list = [-1,0,1]\n",
    "my_list \n",
    "my_list[0]"
   ]
  },
  {
   "cell_type": "code",
   "execution_count": 7,
   "id": "023ea493-e8f7-46d2-853c-3cacf1110e68",
   "metadata": {},
   "outputs": [
    {
     "data": {
      "text/plain": [
       "-1"
      ]
     },
     "execution_count": 7,
     "metadata": {},
     "output_type": "execute_result"
    }
   ],
   "source": [
    "my_list = [-1,0,1]\n",
    "my_list \n",
    "my_list[0]"
   ]
  },
  {
   "cell_type": "code",
   "execution_count": 8,
   "id": "8ac6bbf8-8549-4b90-8b58-682816203ea0",
   "metadata": {},
   "outputs": [
    {
     "data": {
      "text/plain": [
       "[[1, 2, 3], [4, 5, 6], [7, 8, 9], [4, 5, 9]]"
      ]
     },
     "execution_count": 8,
     "metadata": {},
     "output_type": "execute_result"
    }
   ],
   "source": [
    "my_matrix = [[1,2,3],[4,5,6],[7,8,9],[4, 5, 9]]\n",
    "my_matrix"
   ]
  },
  {
   "cell_type": "code",
   "execution_count": 9,
   "id": "d25600d4-74a0-4e32-b3b7-5e516521fb6f",
   "metadata": {},
   "outputs": [
    {
     "data": {
      "text/plain": [
       "array([[1, 2, 3],\n",
       "       [4, 5, 6],\n",
       "       [7, 8, 9],\n",
       "       [4, 5, 9]])"
      ]
     },
     "execution_count": 9,
     "metadata": {},
     "output_type": "execute_result"
    }
   ],
   "source": [
    "matrix_one = np.array(my_matrix)\n",
    "matrix_one"
   ]
  },
  {
   "cell_type": "code",
   "execution_count": 10,
   "id": "a3ca2f7c-0ea6-4974-9c3f-c03eab41a54f",
   "metadata": {},
   "outputs": [
    {
     "data": {
      "text/plain": [
       "(array([-1,  0,  1]), numpy.ndarray)"
      ]
     },
     "execution_count": 10,
     "metadata": {},
     "output_type": "execute_result"
    }
   ],
   "source": [
    "my_tuple = (-1,0,1)\n",
    "my_array = np.array(my_tuple) \n",
    "my_array, type(my_array)"
   ]
  },
  {
   "cell_type": "code",
   "execution_count": 11,
   "id": "39c60435-5ae2-4666-8f9f-b0706fa9aeba",
   "metadata": {},
   "outputs": [
    {
     "data": {
      "text/plain": [
       "array([0, 1, 2, 3, 4, 5, 6, 7, 8, 9])"
      ]
     },
     "execution_count": 11,
     "metadata": {},
     "output_type": "execute_result"
    }
   ],
   "source": [
    "np.arange(0,10)"
   ]
  },
  {
   "cell_type": "code",
   "execution_count": 12,
   "id": "d8900405-3ae1-48f8-a155-dc1fc879b011",
   "metadata": {},
   "outputs": [
    {
     "data": {
      "text/plain": [
       "array([ 0,  2,  4,  6,  8, 10])"
      ]
     },
     "execution_count": 12,
     "metadata": {},
     "output_type": "execute_result"
    }
   ],
   "source": [
    "np.arange(0,11,2)"
   ]
  },
  {
   "cell_type": "code",
   "execution_count": 14,
   "id": "763bbb2f-84f0-456d-b190-820aad4138b4",
   "metadata": {},
   "outputs": [
    {
     "data": {
      "text/plain": [
       "array([ 1.        ,  1.18367347,  1.36734694,  1.55102041,  1.73469388,\n",
       "        1.91836735,  2.10204082,  2.28571429,  2.46938776,  2.65306122,\n",
       "        2.83673469,  3.02040816,  3.20408163,  3.3877551 ,  3.57142857,\n",
       "        3.75510204,  3.93877551,  4.12244898,  4.30612245,  4.48979592,\n",
       "        4.67346939,  4.85714286,  5.04081633,  5.2244898 ,  5.40816327,\n",
       "        5.59183673,  5.7755102 ,  5.95918367,  6.14285714,  6.32653061,\n",
       "        6.51020408,  6.69387755,  6.87755102,  7.06122449,  7.24489796,\n",
       "        7.42857143,  7.6122449 ,  7.79591837,  7.97959184,  8.16326531,\n",
       "        8.34693878,  8.53061224,  8.71428571,  8.89795918,  9.08163265,\n",
       "        9.26530612,  9.44897959,  9.63265306,  9.81632653, 10.        ])"
      ]
     },
     "execution_count": 14,
     "metadata": {},
     "output_type": "execute_result"
    }
   ],
   "source": [
    "np.linspace(1,10,50)"
   ]
  },
  {
   "cell_type": "code",
   "execution_count": 16,
   "id": "a622dbc3-d356-4ae9-8714-c3f15276b772",
   "metadata": {},
   "outputs": [
    {
     "data": {
      "text/plain": [
       "(array([0.055     , 0.06127517, 0.06755034, 0.0738255 , 0.08010067,\n",
       "        0.08637584, 0.09265101, 0.09892617, 0.10520134, 0.11147651,\n",
       "        0.11775168, 0.12402685, 0.13030201, 0.13657718, 0.14285235,\n",
       "        0.14912752, 0.15540268, 0.16167785, 0.16795302, 0.17422819,\n",
       "        0.18050336, 0.18677852, 0.19305369, 0.19932886, 0.20560403,\n",
       "        0.21187919, 0.21815436, 0.22442953, 0.2307047 , 0.23697987,\n",
       "        0.24325503, 0.2495302 , 0.25580537, 0.26208054, 0.2683557 ,\n",
       "        0.27463087, 0.28090604, 0.28718121, 0.29345638, 0.29973154,\n",
       "        0.30600671, 0.31228188, 0.31855705, 0.32483221, 0.33110738,\n",
       "        0.33738255, 0.34365772, 0.34993289, 0.35620805, 0.36248322,\n",
       "        0.36875839, 0.37503356, 0.38130872, 0.38758389, 0.39385906,\n",
       "        0.40013423, 0.4064094 , 0.41268456, 0.41895973, 0.4252349 ,\n",
       "        0.43151007, 0.43778523, 0.4440604 , 0.45033557, 0.45661074,\n",
       "        0.46288591, 0.46916107, 0.47543624, 0.48171141, 0.48798658,\n",
       "        0.49426174, 0.50053691, 0.50681208, 0.51308725, 0.51936242,\n",
       "        0.52563758, 0.53191275, 0.53818792, 0.54446309, 0.55073826,\n",
       "        0.55701342, 0.56328859, 0.56956376, 0.57583893, 0.58211409,\n",
       "        0.58838926, 0.59466443, 0.6009396 , 0.60721477, 0.61348993,\n",
       "        0.6197651 , 0.62604027, 0.63231544, 0.6385906 , 0.64486577,\n",
       "        0.65114094, 0.65741611, 0.66369128, 0.66996644, 0.67624161,\n",
       "        0.68251678, 0.68879195, 0.69506711, 0.70134228, 0.70761745,\n",
       "        0.71389262, 0.72016779, 0.72644295, 0.73271812, 0.73899329,\n",
       "        0.74526846, 0.75154362, 0.75781879, 0.76409396, 0.77036913,\n",
       "        0.7766443 , 0.78291946, 0.78919463, 0.7954698 , 0.80174497,\n",
       "        0.80802013, 0.8142953 , 0.82057047, 0.82684564, 0.83312081,\n",
       "        0.83939597, 0.84567114, 0.85194631, 0.85822148, 0.86449664,\n",
       "        0.87077181, 0.87704698, 0.88332215, 0.88959732, 0.89587248,\n",
       "        0.90214765, 0.90842282, 0.91469799, 0.92097315, 0.92724832,\n",
       "        0.93352349, 0.93979866, 0.94607383, 0.95234899, 0.95862416,\n",
       "        0.96489933, 0.9711745 , 0.97744966, 0.98372483, 0.99      ]),\n",
       " np.float64(0.006275167785234899))"
      ]
     },
     "execution_count": 16,
     "metadata": {},
     "output_type": "execute_result"
    }
   ],
   "source": [
    "np.linspace(0.055,0.99,150,retstep = True)"
   ]
  },
  {
   "cell_type": "code",
   "execution_count": 17,
   "id": "6eed94c4-b04d-4365-8e87-e7da9771ebab",
   "metadata": {},
   "outputs": [
    {
     "data": {
      "text/plain": [
       "array([0., 2., 4., 6., 8.])"
      ]
     },
     "execution_count": 17,
     "metadata": {},
     "output_type": "execute_result"
    }
   ],
   "source": [
    "np.arange(0,10,2, dtype=float)"
   ]
  },
  {
   "cell_type": "code",
   "execution_count": 18,
   "id": "ce81baaa-57df-4b6d-af16-5808ce23faa3",
   "metadata": {},
   "outputs": [
    {
     "data": {
      "text/plain": [
       "array([0., 0., 0., 0., 0., 0., 0., 0., 0., 0., 0., 0., 0., 0., 0.])"
      ]
     },
     "execution_count": 18,
     "metadata": {},
     "output_type": "execute_result"
    }
   ],
   "source": [
    "np.zeros(15)"
   ]
  },
  {
   "cell_type": "code",
   "execution_count": 19,
   "id": "ab09f3e6-0c42-4ce5-b00e-de092dea3ada",
   "metadata": {},
   "outputs": [
    {
     "data": {
      "text/plain": [
       "array([[0., 0., 0., 0.],\n",
       "       [0., 0., 0., 0.],\n",
       "       [0., 0., 0., 0.]])"
      ]
     },
     "execution_count": 19,
     "metadata": {},
     "output_type": "execute_result"
    }
   ],
   "source": [
    "np.zeros((3,4))"
   ]
  },
  {
   "cell_type": "code",
   "execution_count": 20,
   "id": "8258dace-2e9c-4a9e-9352-9812edef996d",
   "metadata": {},
   "outputs": [
    {
     "data": {
      "text/plain": [
       "array([[1., 1., 1., 1., 1., 1.],\n",
       "       [1., 1., 1., 1., 1., 1.],\n",
       "       [1., 1., 1., 1., 1., 1.],\n",
       "       [1., 1., 1., 1., 1., 1.]])"
      ]
     },
     "execution_count": 20,
     "metadata": {},
     "output_type": "execute_result"
    }
   ],
   "source": [
    "np.ones((4,6))"
   ]
  },
  {
   "cell_type": "code",
   "execution_count": 21,
   "id": "cc9d323a-0567-4a65-9f34-e07ac20febf1",
   "metadata": {},
   "outputs": [
    {
     "data": {
      "text/plain": [
       "array([[1., 0., 0., 0., 0.],\n",
       "       [0., 1., 0., 0., 0.],\n",
       "       [0., 0., 1., 0., 0.],\n",
       "       [0., 0., 0., 1., 0.],\n",
       "       [0., 0., 0., 0., 1.]])"
      ]
     },
     "execution_count": 21,
     "metadata": {},
     "output_type": "execute_result"
    }
   ],
   "source": [
    "np.eye(5)"
   ]
  },
  {
   "cell_type": "code",
   "execution_count": 22,
   "id": "2cd9eb1e-ff35-48ec-8894-2ab7355cee33",
   "metadata": {},
   "outputs": [
    {
     "data": {
      "text/plain": [
       "array([0.5829125 , 0.47671108, 0.89315681, 0.63760305, 0.63290026,\n",
       "       0.18706501, 0.50276301, 0.2766636 , 0.73842607, 0.61419426,\n",
       "       0.53580715, 0.85931274, 0.02724116, 0.85029416, 0.23953662,\n",
       "       0.90526864, 0.99535304, 0.74155552, 0.26146333, 0.27020376,\n",
       "       0.1734484 , 0.33813781, 0.95799985, 0.44334805, 0.32572236,\n",
       "       0.21346486, 0.85359861, 0.57278317, 0.98410132, 0.05977956])"
      ]
     },
     "execution_count": 22,
     "metadata": {},
     "output_type": "execute_result"
    }
   ],
   "source": [
    "np.random.rand(30)"
   ]
  },
  {
   "cell_type": "code",
   "execution_count": 23,
   "id": "a6f88c77-2bb7-4e34-b6be-b1f53e37850d",
   "metadata": {},
   "outputs": [
    {
     "data": {
      "text/plain": [
       "array([[0.67286518, 0.56353059],\n",
       "       [0.46979165, 0.50966678],\n",
       "       [0.89452526, 0.13037776]])"
      ]
     },
     "execution_count": 23,
     "metadata": {},
     "output_type": "execute_result"
    }
   ],
   "source": [
    "np.random.rand(3,2)"
   ]
  },
  {
   "cell_type": "code",
   "execution_count": 24,
   "id": "da4c7d5f-c14b-49ac-84b7-9deddeef31c5",
   "metadata": {},
   "outputs": [
    {
     "data": {
      "text/plain": [
       "13"
      ]
     },
     "execution_count": 24,
     "metadata": {},
     "output_type": "execute_result"
    }
   ],
   "source": [
    "np.random.randint(1,100)"
   ]
  },
  {
   "cell_type": "code",
   "execution_count": 25,
   "id": "96bf16cb-ff0e-4337-a1e2-f1e721e8cfc0",
   "metadata": {},
   "outputs": [
    {
     "data": {
      "text/plain": [
       "array([[-0.7192032 , -0.00937282, -0.05469108, ...,  0.83585561,\n",
       "        -0.37549309, -0.27797232],\n",
       "       [ 0.3537836 , -0.10177999,  1.17839066, ...,  0.15757522,\n",
       "         0.25779006, -2.23025527],\n",
       "       [ 0.40382276, -0.44833436, -0.12885705, ...,  0.19358327,\n",
       "         1.44098431, -0.29083206],\n",
       "       ...,\n",
       "       [-0.95614146,  0.34346588,  0.36210082, ...,  0.7303458 ,\n",
       "         0.03272215,  0.6990277 ],\n",
       "       [ 1.75953281,  2.08888554,  0.52153605, ...,  0.38117123,\n",
       "        -0.15899158,  0.20397121],\n",
       "       [-0.07274839, -0.85992341,  1.5662713 , ..., -1.57962761,\n",
       "        -0.4831761 ,  0.24840969]], shape=(100, 100))"
      ]
     },
     "execution_count": 25,
     "metadata": {},
     "output_type": "execute_result"
    }
   ],
   "source": [
    "np.random.randn(100,100)"
   ]
  },
  {
   "cell_type": "code",
   "execution_count": 28,
   "id": "dfc02757-ccf9-4398-adea-8cfebe333b88",
   "metadata": {},
   "outputs": [],
   "source": [
    "array_arange = np.arange(0,16)\n",
    "array_ranint = np.random.randint(0,100,10)"
   ]
  },
  {
   "cell_type": "code",
   "execution_count": 29,
   "id": "2ae71523-569e-4cb7-87ec-569b9a92eaef",
   "metadata": {},
   "outputs": [
    {
     "data": {
      "text/plain": [
       "array([31, 41, 25, 13, 68, 81,  6, 72, 97, 20], dtype=int32)"
      ]
     },
     "execution_count": 29,
     "metadata": {},
     "output_type": "execute_result"
    }
   ],
   "source": [
    "array_ranint"
   ]
  },
  {
   "cell_type": "code",
   "execution_count": 30,
   "id": "13d88ca5-fae9-4d1f-89ef-70e555d312d2",
   "metadata": {},
   "outputs": [
    {
     "data": {
      "text/plain": [
       "array([ 0,  1,  2,  3,  4,  5,  6,  7,  8,  9, 10, 11, 12, 13, 14, 15])"
      ]
     },
     "execution_count": 30,
     "metadata": {},
     "output_type": "execute_result"
    }
   ],
   "source": [
    "array_arange"
   ]
  },
  {
   "cell_type": "code",
   "execution_count": 31,
   "id": "d9e286e6-38e6-4eba-b5f2-afb9f41da318",
   "metadata": {},
   "outputs": [
    {
     "data": {
      "text/plain": [
       "np.int32(97)"
      ]
     },
     "execution_count": 31,
     "metadata": {},
     "output_type": "execute_result"
    }
   ],
   "source": [
    "array_ranint.max()"
   ]
  },
  {
   "cell_type": "code",
   "execution_count": 32,
   "id": "39565b05-90a4-4cc3-bec0-27280947cffd",
   "metadata": {},
   "outputs": [
    {
     "data": {
      "text/plain": [
       "np.int64(8)"
      ]
     },
     "execution_count": 32,
     "metadata": {},
     "output_type": "execute_result"
    }
   ],
   "source": [
    "array_ranint.argmax()"
   ]
  },
  {
   "cell_type": "code",
   "execution_count": 33,
   "id": "e3a24809-bf9e-4148-bc92-9206e8e20f59",
   "metadata": {},
   "outputs": [
    {
     "data": {
      "text/plain": [
       "np.int64(6)"
      ]
     },
     "execution_count": 33,
     "metadata": {},
     "output_type": "execute_result"
    }
   ],
   "source": [
    "array_ranint.argmin()"
   ]
  },
  {
   "cell_type": "code",
   "execution_count": 34,
   "id": "192695a6-349e-49c5-a212-80cc76882961",
   "metadata": {},
   "outputs": [
    {
     "data": {
      "text/plain": [
       "(16,)"
      ]
     },
     "execution_count": 34,
     "metadata": {},
     "output_type": "execute_result"
    }
   ],
   "source": [
    "array_arange.shape"
   ]
  },
  {
   "cell_type": "code",
   "execution_count": 35,
   "id": "37374c44-6b6c-43d9-bec7-b81f04dbe7cf",
   "metadata": {},
   "outputs": [
    {
     "data": {
      "text/plain": [
       "16"
      ]
     },
     "execution_count": 35,
     "metadata": {},
     "output_type": "execute_result"
    }
   ],
   "source": [
    "array_arange.size"
   ]
  },
  {
   "cell_type": "code",
   "execution_count": 36,
   "id": "3a738dd7-002f-41b5-b424-87b7d4a47cc0",
   "metadata": {},
   "outputs": [
    {
     "data": {
      "text/plain": [
       "dtype('int64')"
      ]
     },
     "execution_count": 36,
     "metadata": {},
     "output_type": "execute_result"
    }
   ],
   "source": [
    "array_arange.dtype"
   ]
  },
  {
   "cell_type": "code",
   "execution_count": 37,
   "id": "b8e94732-7fa1-47c5-b50f-668b60fc2ce8",
   "metadata": {},
   "outputs": [
    {
     "data": {
      "text/plain": [
       "array([[ 0,  1,  2,  3],\n",
       "       [ 4,  5,  6,  7],\n",
       "       [ 8,  9, 10, 11],\n",
       "       [12, 13, 14, 15]])"
      ]
     },
     "execution_count": 37,
     "metadata": {},
     "output_type": "execute_result"
    }
   ],
   "source": [
    "array_arange.reshape(4,4)"
   ]
  },
  {
   "cell_type": "code",
   "execution_count": 38,
   "id": "2057d654-5e71-4d16-93e1-e4258dcf8bf6",
   "metadata": {},
   "outputs": [
    {
     "data": {
      "text/plain": [
       "array([[ 0,  1],\n",
       "       [ 2,  3],\n",
       "       [ 4,  5],\n",
       "       [ 6,  7],\n",
       "       [ 8,  9],\n",
       "       [10, 11],\n",
       "       [12, 13],\n",
       "       [14, 15]])"
      ]
     },
     "execution_count": 38,
     "metadata": {},
     "output_type": "execute_result"
    }
   ],
   "source": [
    "array_arange.reshape(8,2)"
   ]
  },
  {
   "cell_type": "code",
   "execution_count": 39,
   "id": "a9614fcb-d055-4262-8313-2d344e368291",
   "metadata": {},
   "outputs": [],
   "source": [
    "array_1d = np.array([-10, -2, 0, 2, 17, 106,200])"
   ]
  },
  {
   "cell_type": "code",
   "execution_count": 40,
   "id": "ca7bb6e5-7030-4a6b-b93a-ef6553123942",
   "metadata": {},
   "outputs": [
    {
     "data": {
      "text/plain": [
       "array([-10,  -2,   0,   2,  17, 106, 200])"
      ]
     },
     "execution_count": 40,
     "metadata": {},
     "output_type": "execute_result"
    }
   ],
   "source": [
    "array_1d"
   ]
  },
  {
   "cell_type": "code",
   "execution_count": 41,
   "id": "06329f49-47ff-4344-b809-1eedc0ee26c5",
   "metadata": {},
   "outputs": [
    {
     "data": {
      "text/plain": [
       "np.int64(-10)"
      ]
     },
     "execution_count": 41,
     "metadata": {},
     "output_type": "execute_result"
    }
   ],
   "source": [
    "array_1d[0]"
   ]
  },
  {
   "cell_type": "code",
   "execution_count": 42,
   "id": "1843a22c-35a3-485b-b53e-f83c25bbdc9c",
   "metadata": {},
   "outputs": [
    {
     "data": {
      "text/plain": [
       "(array([-10,  -2,   0]), array([-10,  -2,   0,   2,  17, 106, 200]))"
      ]
     },
     "execution_count": 42,
     "metadata": {},
     "output_type": "execute_result"
    }
   ],
   "source": [
    "array_1d[0:3], array_1d"
   ]
  },
  {
   "cell_type": "code",
   "execution_count": 43,
   "id": "3e2185f7-ebc2-490e-a914-78a76b2e2c31",
   "metadata": {},
   "outputs": [
    {
     "data": {
      "text/plain": [
       "array([[ 0,  1,  2,  3],\n",
       "       [ 4,  5,  6,  7],\n",
       "       [ 8,  9, 10, 11],\n",
       "       [12, 13, 14, 15],\n",
       "       [16, 17, 18, 19],\n",
       "       [20, 21, 22, 23]])"
      ]
     },
     "execution_count": 43,
     "metadata": {},
     "output_type": "execute_result"
    }
   ],
   "source": [
    "array_2d= np.arange(24)\n",
    "array_2d.shape = (6,4) #array_2d.reshape(6,4)\n",
    "array_2d"
   ]
  }
 ],
 "metadata": {
  "kernelspec": {
   "display_name": "Python 3 (ipykernel)",
   "language": "python",
   "name": "python3"
  },
  "language_info": {
   "codemirror_mode": {
    "name": "ipython",
    "version": 3
   },
   "file_extension": ".py",
   "mimetype": "text/x-python",
   "name": "python",
   "nbconvert_exporter": "python",
   "pygments_lexer": "ipython3",
   "version": "3.13.7"
  }
 },
 "nbformat": 4,
 "nbformat_minor": 5
}
